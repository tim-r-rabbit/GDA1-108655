{
 "cells": [
  {
   "cell_type": "markdown",
   "id": "07ee87c8",
   "metadata": {},
   "source": [
    "Introduction to Pandas DataFrames\n",
    "\n",
    "\n",
    "Pandas is a powerful and versatile library for Python, designed primarily for data manipulation and analysis. To quote from Nvidia’s website:\n",
    "\n",
    "Pandas is the most popular software library for data manipulation and data analysis for the Python programming language. (www.nvidia.com)\n",
    "\n",
    "Here is an (incomplete) list of some key functionalities provided by Pandas:\n",
    "\n",
    "Data Structures\n",
    "Series: One-dimensional labeled array capable of holding data of any type.\n",
    "DataFrame: Two-dimensional, size-mutable, potentially heterogeneous tabular data structure with labeled axes (rows and columns).\n",
    "Data Manipulation\n",
    "Data Selection and Indexing: Access data via labels, indices, or boolean masks (.loc, .iloc, .at, .iat).\n",
    "Filtering: Filter data based on conditions or queries.\n",
    "Sorting: Sort data by labels or values.\n",
    "Handling Missing Data: Identify, fill, or drop missing values (isnull, dropna, fillna).\n",
    "Data Cleaning\n",
    "Dropping Duplicates: Remove duplicate rows or columns.\n",
    "Replacing Values: Replace specific values in the DataFrame.\n",
    "String Operations: Perform operations on string data, like splitting, replacing, and pattern matching (str.split, str.replace).\n",
    "Aggregation and Grouping\n",
    "Group By: Split data into groups based on criteria, and perform aggregate functions like sum, mean, or custom operations.\n",
    "Pivot Tables: Create a pivot table to summarize data.\n",
    "Merging and Joining\n",
    "Concatenation: Combine multiple DataFrames along a particular axis.\n",
    "Merging: Merge DataFrames similar to SQL joins (merge, join).\n",
    "Time Series\n",
    "Datetime Conversion: Convert date and time data to a datetime object.\n",
    "Resampling: Aggregate data over a time period.\n",
    "Time-based Indexing: Access and manipulate time-series data easily with date indexing.\n",
    "Statistical and Mathematical Operations\n",
    "Descriptive Statistics: Compute summary statistics for DataFrame columns.\n",
    "Correlation/ Covariance: Calculate the pairwise correlation or covariance between columns.\n",
    "Cumulative Operations: Perform cumulative operations on data.\n",
    "At the heart of Pandas lies the DataFrame, a two-dimensional labeled data structure with columns of potentially different types, similar to a table in a relational database or an Excel spreadsheet. Understanding DataFrames is crucial for anyone looking to perform data analysis in Python."
   ]
  },
  {
   "cell_type": "markdown",
   "id": "89cf9e3f",
   "metadata": {},
   "source": [
    "What is a DataFrame?\n",
    "A DataFrame is a table-like structure in Pandas that consists of rows and columns, where each column can hold different data types (e.g., integers, floats, strings). You can think of it as a collection of Series objects, where each Series is a single column of data. DataFrames provide a highly efficient way to store and manipulate large datasets in memory."
   ]
  },
  {
   "cell_type": "markdown",
   "id": "b57859f5",
   "metadata": {},
   "source": [
    "Creating a DataFrame\n",
    "There are several ways to create a DataFrame in Pandas, but some of the most common methods are:\n",
    "\n",
    "From a Dictionary\n",
    "From a List of Lists\n",
    "From a CSV File\n",
    "Below we take a look at the first two approaches."
   ]
  },
  {
   "cell_type": "markdown",
   "id": "7e632396",
   "metadata": {},
   "source": [
    "Creating DataFrame from a Dictionary\n",
    "The following code will create a DataFrame with three columns: ‘Name’, ‘Age’, and ‘City’, and three rows corresponding to the data provided in the dictionary. To be able to use Pandas, we first have to import it. This is done using the command import pandas as pd, introducing the alias pd for Pandas."
   ]
  },
  {
   "cell_type": "code",
   "execution_count": null,
   "id": "9efdfa8b",
   "metadata": {
    "vscode": {
     "languageId": "plaintext"
    }
   },
   "outputs": [],
   "source": [
    "import pandas as pd\n",
    "\n",
    "data = {\n",
    "    'Name': ['Alice', 'Bob', 'Charlie'],\n",
    "    'Age': [25, 30, 35],\n",
    "    'City': ['New York', 'Los Angeles', 'Chicago']\n",
    "}\n",
    "\n",
    "df = pd.DataFrame(data)\n",
    "print(df)"
   ]
  },
  {
   "cell_type": "markdown",
   "id": "178c2068",
   "metadata": {},
   "source": [
    "Creating DataFrame from a List of Lists\n",
    "Here, we create the DataFrame from a list of lists where each inner list represents the values for one row. Note that We explicitly specify the column names when creating the DataFrame."
   ]
  },
  {
   "cell_type": "code",
   "execution_count": null,
   "id": "6ac121c6",
   "metadata": {
    "vscode": {
     "languageId": "plaintext"
    }
   },
   "outputs": [],
   "source": [
    "data = [\n",
    "    ['Alice', 25, 'New York'],\n",
    "    ['Bob', 30, 'Los Angeles'],\n",
    "    ['Charlie', 35, 'Chicago']\n",
    "]\n",
    "\n",
    "df = pd.DataFrame(data, columns=['Name', 'Age', 'City'])\n",
    "print(df)"
   ]
  },
  {
   "cell_type": "markdown",
   "id": "d50bb66f",
   "metadata": {},
   "source": [
    "Accessing Data in a DataFrame\n",
    "Once you have a DataFrame, you can access its data in various ways:\n",
    "\n",
    "By column name:"
   ]
  },
  {
   "cell_type": "code",
   "execution_count": null,
   "id": "ed48c4ba",
   "metadata": {
    "vscode": {
     "languageId": "plaintext"
    }
   },
   "outputs": [],
   "source": [
    "print(df['Name'])"
   ]
  },
  {
   "cell_type": "markdown",
   "id": "5a516bf3",
   "metadata": {},
   "source": [
    "By row index:"
   ]
  },
  {
   "cell_type": "code",
   "execution_count": null,
   "id": "b573395b",
   "metadata": {
    "vscode": {
     "languageId": "plaintext"
    }
   },
   "outputs": [],
   "source": [
    "print(df.iloc[0])"
   ]
  },
  {
   "cell_type": "markdown",
   "id": "5a191ac9",
   "metadata": {},
   "source": [
    "Using both:"
   ]
  },
  {
   "cell_type": "code",
   "execution_count": null,
   "id": "9656943c",
   "metadata": {
    "vscode": {
     "languageId": "plaintext"
    }
   },
   "outputs": [],
   "source": [
    "print(df.loc[0, 'Name'])"
   ]
  },
  {
   "cell_type": "markdown",
   "id": "e1a44063",
   "metadata": {},
   "source": [
    "Conclusion\n",
    "Pandas DataFrames sind ein grundlegendes Werkzeug im Datenanalyse-Toolkit für Python-Benutzer. Sie bieten eine leistungsstarke Möglichkeit, Daten effizient zu organisieren, zu bearbeiten und zu analysieren. Unabhängig davon, ob Sie mit kleinen Datensätzen oder mit großen Datenmengen arbeiten, können Sie mit DataFrames eine Vielzahl von datenbezogenen Aufgaben problemlos bewältigen.\n",
    "\n",
    "In dieser Einführung haben wir die Grundlagen behandelt, was ein DataFrame ist, wie man einen erstellt und wie man auf Spalten, Zeilen und einzelne Zellen in einem DataFrame zugreift. Während Sie Pandas weiter erkunden, werden Sie viele weitere Features und Fähigkeiten entdecken, die DataFrames zu einem unverzichtbaren Bestandteil der Python-Programmierung machen. Die folgende Tabelle enthält eine Reihe von Ressourcen, die sich auf Pandas beziehen.\n",
    "\n",
    "Resource\tDescription\n",
    "Pandas Documentation\tOfficial documentation for Pandas.\n",
    "Python for Data Analysis\tComprehensive guide by Pandas creator, Wes McKinney.\n",
    "Real Python: The Pandas DataFrame\tTutorials on using Pandas for data analysis.\n",
    "Kaggle Pandas\tFree introductory course on Pandas by Kaggle.\n",
    "DataCamp Pandas Tutorial\tDetailed tutorials and exercises on Pandas."
   ]
  }
 ],
 "metadata": {
  "language_info": {
   "name": "python"
  }
 },
 "nbformat": 4,
 "nbformat_minor": 5
}
