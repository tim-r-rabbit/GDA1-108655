{
 "cells": [
  {
   "cell_type": "markdown",
   "id": "07ee87c8",
   "metadata": {},
   "source": [
    "## Introduction to Pandas DataFrames\n",
    "\n",
    "![Picture of a Panda](Pandas.webp)\n",
    "\n",
    "<a href=\"https://pandas.pydata.org/\" target=\"_blank\"><ins>Pandas</ins></a> is a powerful and versatile library for Python, designed primarily for data manipulation and analysis. To quote from Nvidia’s website:\n",
    "\n",
    "> Pandas is the most popular software library for data manipulation and data analysis for the Python programming language. <a href=\"https://www.nvidia.com/en-us/glossary/pandas-python/\" target=\"_blank\"><ins>(www.nvidia.com)</ins></a>\n",
    "\n",
    "Here is an (incomplete) list of some key functionalities provided by Pandas:\n",
    "\n",
    "1. **Data Structures**\n",
    "   - *Series*: One-dimensional labeled array capable of holding data of any type.\n",
    "   - *DataFrame*: Two-dimensional, size-mutable, potentially heterogeneous tabular data structure  \n",
    "     with labeled axes (rows and columns).\n",
    "2. **Data Manipulation**\n",
    "   - *Data Selection and Indexing*: Access data via labels, indices, or boolean masks (`.loc`, `.iloc`, `.at`, `.iat`).\n",
    "   - *Filtering*: Filter data based on conditions or queries.\n",
    "   - *Sorting*: Sort data by labels or values.\n",
    "   - *Handling Missing Data*: Identify, fill, or drop missing values (`isnull`, `dropna`, `fillna`).\n",
    "3. **Data Cleaning**\n",
    "   - *Dropping Duplicates*: Remove duplicate rows or columns.\n",
    "   - *Replacing Values*: Replace specific values in the DataFrame.\n",
    "   - *String Operations*: Perform operations on string data, like splitting, replacing, and pattern matching (`str.split`, `str.replace`).\n",
    "4. **Aggregation and Grouping**\n",
    "   - *Group By*: Split data into groups based on criteria, and perform aggregate functions like sum, mean, or custom operations.\n",
    "   - *Pivot Tables*: Create a pivot table to summarize data.\n",
    "5. **Merging and Joining**\n",
    "   - *Concatenation*: Combine multiple DataFrames along a particular axis.\n",
    "   - *Merging*: Merge DataFrames similar to SQL joins (`merge`, `join`).\n",
    "6. **Time Series**\n",
    "   - *Datetime Conversion*: Convert date and time data to a datetime object.\n",
    "   - *Resampling*: Aggregate data over a time period.\n",
    "   - *Time-based Indexing*: Access and manipulate time-series data easily with date indexing.\n",
    "7. **Statistical and Mathematical Operations**\n",
    "   - *Descriptive Statistics*: Compute summary statistics for DataFrame columns.\n",
    "   - *Correlation/ Covariance*: Calculate the pairwise correlation or covariance between columns.\n",
    "   - *Cumulative Operations*: Perform cumulative operations on data.\n",
    "\n",
    "At the heart of Pandas lies the DataFrame, a two-dimensional labeled data structure with columns of potentially different types, similar to a table in a relational database or an Excel spreadsheet. Understanding DataFrames is crucial for anyone looking to perform data analysis in Python."
   ]
  },
  {
   "cell_type": "markdown",
   "id": "89cf9e3f",
   "metadata": {},
   "source": [
    "## What is a DataFrame?\n",
    "----\n",
    "A DataFrame is a table-like structure in Pandas that consists of rows and columns, where each column can hold different data types (e.g., integers, floats, strings). You can think of it as a collection of Series objects, where each Series is a single column of data. DataFrames provide a highly efficient way to store and manipulate large datasets in memory."
   ]
  },
  {
   "cell_type": "markdown",
   "id": "b57859f5",
   "metadata": {},
   "source": [
    "## Creating a DataFrame\n",
    "----\n",
    "There are several ways to create a DataFrame in Pandas, but some of the most common methods are:\n",
    "\n",
    "1. From a Dictionary\n",
    "2. From a List of Lists\n",
    "3. From a CSV File\n",
    "\n",
    "Below we take a look at the first two approaches."
   ]
  },
  {
   "cell_type": "markdown",
   "id": "7e632396",
   "metadata": {},
   "source": [
    "### Creating DataFrame from a Dictionary\n",
    "\n",
    "The following code will create a DataFrame with three columns: ‘Name’, ‘Age’, and ‘City’, and three rows corresponding to the data provided in the dictionary. To be able to use Pandas, we first have to import it. This is done using the command `import pandas as pd`, introducing the alias `pd` for Pandas."
   ]
  },
  {
   "cell_type": "code",
   "execution_count": 1,
   "id": "9efdfa8b",
   "metadata": {},
   "outputs": [
    {
     "data": {
      "text/html": [
       "<div>\n",
       "<style scoped>\n",
       "    .dataframe tbody tr th:only-of-type {\n",
       "        vertical-align: middle;\n",
       "    }\n",
       "\n",
       "    .dataframe tbody tr th {\n",
       "        vertical-align: top;\n",
       "    }\n",
       "\n",
       "    .dataframe thead th {\n",
       "        text-align: right;\n",
       "    }\n",
       "</style>\n",
       "<table border=\"1\" class=\"dataframe\">\n",
       "  <thead>\n",
       "    <tr style=\"text-align: right;\">\n",
       "      <th></th>\n",
       "      <th>Name</th>\n",
       "      <th>Age</th>\n",
       "      <th>City</th>\n",
       "    </tr>\n",
       "  </thead>\n",
       "  <tbody>\n",
       "    <tr>\n",
       "      <th>0</th>\n",
       "      <td>Alice</td>\n",
       "      <td>25</td>\n",
       "      <td>New York</td>\n",
       "    </tr>\n",
       "    <tr>\n",
       "      <th>1</th>\n",
       "      <td>Bob</td>\n",
       "      <td>30</td>\n",
       "      <td>Los Angeles</td>\n",
       "    </tr>\n",
       "    <tr>\n",
       "      <th>2</th>\n",
       "      <td>Charlie</td>\n",
       "      <td>35</td>\n",
       "      <td>Chicago</td>\n",
       "    </tr>\n",
       "  </tbody>\n",
       "</table>\n",
       "</div>"
      ],
      "text/plain": [
       "      Name  Age         City\n",
       "0    Alice   25     New York\n",
       "1      Bob   30  Los Angeles\n",
       "2  Charlie   35      Chicago"
      ]
     },
     "execution_count": 1,
     "metadata": {},
     "output_type": "execute_result"
    }
   ],
   "source": [
    "import pandas as pd\n",
    "\n",
    "data = {\n",
    "    'Name': ['Alice', 'Bob', 'Charlie'],\n",
    "    'Age': [25, 30, 35],\n",
    "    'City': ['New York', 'Los Angeles', 'Chicago']\n",
    "}\n",
    "\n",
    "df = pd.DataFrame(data)\n",
    "(df)"
   ]
  },
  {
   "cell_type": "markdown",
   "id": "178c2068",
   "metadata": {},
   "source": [
    "### Creating DataFrame from a List of Lists\n",
    "\n",
    "Here, we create the DataFrame from a list of lists where each inner list represents the values for one row. Note that We explicitly specify the column names when creating the DataFrame."
   ]
  },
  {
   "cell_type": "code",
   "execution_count": 2,
   "id": "6ac121c6",
   "metadata": {},
   "outputs": [
    {
     "data": {
      "text/html": [
       "<div>\n",
       "<style scoped>\n",
       "    .dataframe tbody tr th:only-of-type {\n",
       "        vertical-align: middle;\n",
       "    }\n",
       "\n",
       "    .dataframe tbody tr th {\n",
       "        vertical-align: top;\n",
       "    }\n",
       "\n",
       "    .dataframe thead th {\n",
       "        text-align: right;\n",
       "    }\n",
       "</style>\n",
       "<table border=\"1\" class=\"dataframe\">\n",
       "  <thead>\n",
       "    <tr style=\"text-align: right;\">\n",
       "      <th></th>\n",
       "      <th>Name</th>\n",
       "      <th>Age</th>\n",
       "      <th>City</th>\n",
       "    </tr>\n",
       "  </thead>\n",
       "  <tbody>\n",
       "    <tr>\n",
       "      <th>0</th>\n",
       "      <td>Alice</td>\n",
       "      <td>25</td>\n",
       "      <td>New York</td>\n",
       "    </tr>\n",
       "    <tr>\n",
       "      <th>1</th>\n",
       "      <td>Bob</td>\n",
       "      <td>30</td>\n",
       "      <td>Los Angeles</td>\n",
       "    </tr>\n",
       "    <tr>\n",
       "      <th>2</th>\n",
       "      <td>Charlie</td>\n",
       "      <td>35</td>\n",
       "      <td>Chicago</td>\n",
       "    </tr>\n",
       "  </tbody>\n",
       "</table>\n",
       "</div>"
      ],
      "text/plain": [
       "      Name  Age         City\n",
       "0    Alice   25     New York\n",
       "1      Bob   30  Los Angeles\n",
       "2  Charlie   35      Chicago"
      ]
     },
     "execution_count": 2,
     "metadata": {},
     "output_type": "execute_result"
    }
   ],
   "source": [
    "data = [\n",
    "    ['Alice', 25, 'New York'],\n",
    "    ['Bob', 30, 'Los Angeles'],\n",
    "    ['Charlie', 35, 'Chicago']\n",
    "]\n",
    "\n",
    "df = pd.DataFrame(data, columns=['Name', 'Age', 'City'])\n",
    "(df)"
   ]
  },
  {
   "cell_type": "markdown",
   "id": "d50bb66f",
   "metadata": {},
   "source": [
    "## Accessing Data in a DataFrame\n",
    "\n",
    "----\n",
    "\n",
    "Once you have a DataFrame, you can access its data in various ways:\n",
    "\n",
    "- By column name:"
   ]
  },
  {
   "cell_type": "code",
   "execution_count": 3,
   "id": "ed48c4ba",
   "metadata": {},
   "outputs": [
    {
     "data": {
      "text/plain": [
       "0      Alice\n",
       "1        Bob\n",
       "2    Charlie\n",
       "Name: Name, dtype: object"
      ]
     },
     "execution_count": 3,
     "metadata": {},
     "output_type": "execute_result"
    }
   ],
   "source": [
    "(df['Name'])"
   ]
  },
  {
   "cell_type": "markdown",
   "id": "5a516bf3",
   "metadata": {},
   "source": [
    "- By row index:"
   ]
  },
  {
   "cell_type": "code",
   "execution_count": 4,
   "id": "b573395b",
   "metadata": {},
   "outputs": [
    {
     "data": {
      "text/plain": [
       "Name       Alice\n",
       "Age           25\n",
       "City    New York\n",
       "Name: 0, dtype: object"
      ]
     },
     "execution_count": 4,
     "metadata": {},
     "output_type": "execute_result"
    }
   ],
   "source": [
    "(df.iloc[0])"
   ]
  },
  {
   "cell_type": "markdown",
   "id": "5a191ac9",
   "metadata": {},
   "source": [
    "- Using both:"
   ]
  },
  {
   "cell_type": "code",
   "execution_count": 5,
   "id": "9656943c",
   "metadata": {},
   "outputs": [
    {
     "data": {
      "text/plain": [
       "'Alice'"
      ]
     },
     "execution_count": 5,
     "metadata": {},
     "output_type": "execute_result"
    }
   ],
   "source": [
    "(df.loc[0, 'Name'])"
   ]
  },
  {
   "cell_type": "markdown",
   "id": "e1a44063",
   "metadata": {},
   "source": [
    "## Conclusion\n",
    "\n",
    "----\n",
    "\n",
    "Pandas DataFrames are a fundamental tool in the data analysis toolkit for Python users. They provide a powerful way to organize, manipulate, and analyze data efficiently. Whether you’re working with small datasets or handling large-scale data, mastering DataFrames will allow you to tackle a wide range of data-related tasks with ease.\n",
    "\n",
    "In this introduction, we’ve covered the basics of what a DataFrame is, how to create one, and how to access columns, rows, and individual cells in a DataFrame. As you continue to explore Pandas, you’ll discover many more features and capabilities that make DataFrames an indispensable part of Python programming. The table below contains a number of resources related to Pandas.\n",
    "\n",
    "| **Resource**                                                                                                                                    | **Description**                                      |\n",
    "| :---------------------------------------------------------------------------------------------------------------------------------------------- | :--------------------------------------------------- |\n",
    "| <a href=\"https://pandas.pydata.org/\" target=\"_blank\"><ins>Pandas Documentation</ins></a>                                                        | Official documentation for Pandas.                   |\n",
    "| <a href=\"https://www.oreilly.com/library/view/python-for-data/9781491957653/\" target=\"_blank\"><ins>Python for Data Analysis</ins></a>           | Comprehensive guide by Pandas creator, Wes McKinney. |\n",
    "| <a href=\"https://realpython.com/pandas-dataframe/\" target=\"_blank\"><ins>Real Python: The Pandas DataFrame</ins></a>                             | Tutorials on using Pandas for data analysis.         |\n",
    "| <a href=\"https://www.kaggle.com/learn/pandas\" target=\"_blank\"><ins>Kaggle Pandas</ins></a>                                                      | Free introductory course on Pandas by Kaggle.        |\n",
    "| <a href=\"https://www.datacamp.com/community/tutorials/pandas-tutorial-dataframe-python\" target=\"_blank\"><ins>DataCamp Pandas Tutorial</ins></a> | Detailed tutorials and exercises on Pandas.          |"
   ]
  }
 ],
 "metadata": {
  "kernelspec": {
   "display_name": "unigis",
   "language": "python",
   "name": "python3"
  },
  "language_info": {
   "codemirror_mode": {
    "name": "ipython",
    "version": 3
   },
   "file_extension": ".py",
   "mimetype": "text/x-python",
   "name": "python",
   "nbconvert_exporter": "python",
   "pygments_lexer": "ipython3",
   "version": "3.11.13"
  }
 },
 "nbformat": 4,
 "nbformat_minor": 5
}
